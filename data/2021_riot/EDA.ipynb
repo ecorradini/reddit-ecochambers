{
 "cells": [
  {
   "cell_type": "code",
   "execution_count": 1,
   "id": "91603716-b3b8-4074-9de3-e551e2e89e94",
   "metadata": {},
   "outputs": [],
   "source": [
    "import pandas as pd\n",
    "import zstandard as zstd\n",
    "import io\n",
    "\n",
    "def read_csv_zst(file_path):\n",
    "    with open(file_path, 'rb') as compressed_file:\n",
    "        dctx = zstd.ZstdDecompressor()\n",
    "        with dctx.stream_reader(compressed_file) as reader:\n",
    "            return pd.read_csv(io.BytesIO(reader.read()))\n",
    "\n",
    "# Usage\n",
    "submissions = read_csv_zst(\"submissions.csv.zst\")\n",
    "comments = read_csv_zst(\"comments.csv.zst\")"
   ]
  },
  {
   "cell_type": "code",
   "execution_count": 2,
   "id": "5da0cc4b-f9f4-4e50-9e70-7ac6e39992e4",
   "metadata": {},
   "outputs": [
    {
     "name": "stdout",
     "output_type": "stream",
     "text": [
      "14685\n",
      "1429786\n"
     ]
    }
   ],
   "source": [
    "print(len(submissions['id'].unique()))\n",
    "print(len(comments['id'].unique()))"
   ]
  },
  {
   "cell_type": "code",
   "execution_count": 3,
   "id": "be57c9c8-eaeb-4699-a31d-c11d61315c05",
   "metadata": {},
   "outputs": [
    {
     "name": "stdout",
     "output_type": "stream",
     "text": [
      "50.41289087428207\n"
     ]
    }
   ],
   "source": [
    "import pandas as pd\n",
    "direct_replies = comments[comments[\"parent_id\"].str.startswith(\"t3\")]\n",
    "comments_per_post = direct_replies[\"parent_id\"].value_counts()\n",
    "\n",
    "average_comments_per_post = comments_per_post.mean()\n",
    "\n",
    "print(average_comments_per_post)"
   ]
  },
  {
   "cell_type": "code",
   "execution_count": 4,
   "id": "30603081-4c5b-498f-99d1-53094a4e711b",
   "metadata": {},
   "outputs": [
    {
     "name": "stdout",
     "output_type": "stream",
     "text": [
      "1.9070888851188224\n"
     ]
    }
   ],
   "source": [
    "import pandas as pd\n",
    "direct_replies = comments[comments[\"parent_id\"].str.startswith(\"t1\")]\n",
    "comments_per_comment = direct_replies[\"parent_id\"].value_counts()\n",
    "\n",
    "average_comments_per_comment = comments_per_comment.mean()\n",
    "\n",
    "print(average_comments_per_comment)"
   ]
  },
  {
   "cell_type": "code",
   "execution_count": 5,
   "id": "fdc036df-c5c4-49b8-a631-e2f764688855",
   "metadata": {},
   "outputs": [
    {
     "name": "stdout",
     "output_type": "stream",
     "text": [
      "2.4133114215283484\n"
     ]
    }
   ],
   "source": [
    "import pandas as pd\n",
    "\n",
    "submissions_per_author = submissions.groupby(\"author\")[\"id\"].nunique()\n",
    "average_submissions_per_author = submissions_per_author.mean()\n",
    "\n",
    "print(average_submissions_per_author)"
   ]
  },
  {
   "cell_type": "code",
   "execution_count": 6,
   "id": "fca5c591-c6bb-407e-b92b-161c32175347",
   "metadata": {},
   "outputs": [
    {
     "name": "stdout",
     "output_type": "stream",
     "text": [
      "5.663730065043613\n"
     ]
    }
   ],
   "source": [
    "import pandas as pd\n",
    "\n",
    "comments_per_author = comments.groupby(\"author\")[\"id\"].nunique()\n",
    "average_comments_per_author = comments_per_author.mean()\n",
    "\n",
    "print(average_comments_per_author)"
   ]
  },
  {
   "cell_type": "code",
   "execution_count": 7,
   "id": "3f699488-56b4-4fc8-bd1b-6c1252178981",
   "metadata": {},
   "outputs": [
    {
     "name": "stdout",
     "output_type": "stream",
     "text": [
      "Percentage of authors that write both posts and comments: 66.57%\n"
     ]
    }
   ],
   "source": [
    "authors_submissions = set(submissions[\"author\"].dropna())\n",
    "authors_comments = set(comments[\"author\"].dropna())\n",
    "\n",
    "authors_both = authors_submissions.intersection(authors_comments)\n",
    "\n",
    "percentage_authors_both = (len(authors_both) / len(authors_submissions)) * 100\n",
    "\n",
    "# Print the result\n",
    "print(f\"Percentage of authors that write both posts and comments: {percentage_authors_both:.2f}%\")"
   ]
  },
  {
   "cell_type": "code",
   "execution_count": 8,
   "id": "cd7ab1ce-1807-4846-bc8f-84dc7388aa0a",
   "metadata": {},
   "outputs": [
    {
     "data": {
      "text/plain": [
       "1545.5637044603336"
      ]
     },
     "execution_count": 8,
     "metadata": {},
     "output_type": "execute_result"
    }
   ],
   "source": [
    "submissions['score'].mean()"
   ]
  },
  {
   "cell_type": "code",
   "execution_count": 9,
   "id": "4e76bdd1-1994-4955-ab24-5cb09384ac14",
   "metadata": {},
   "outputs": [
    {
     "data": {
      "text/plain": [
       "14.351678502936803"
      ]
     },
     "execution_count": 9,
     "metadata": {},
     "output_type": "execute_result"
    }
   ],
   "source": [
    "comments['score'].mean()"
   ]
  },
  {
   "cell_type": "code",
   "execution_count": null,
   "id": "0945e22a-c258-4719-a3b7-c772a9802684",
   "metadata": {},
   "outputs": [],
   "source": []
  }
 ],
 "metadata": {
  "kernelspec": {
   "display_name": "Python 3 (ipykernel)",
   "language": "python",
   "name": "python3"
  },
  "language_info": {
   "codemirror_mode": {
    "name": "ipython",
    "version": 3
   },
   "file_extension": ".py",
   "mimetype": "text/x-python",
   "name": "python",
   "nbconvert_exporter": "python",
   "pygments_lexer": "ipython3",
   "version": "3.10.12"
  }
 },
 "nbformat": 4,
 "nbformat_minor": 5
}
