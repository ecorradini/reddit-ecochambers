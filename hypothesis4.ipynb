{
 "cells": [
  {
   "cell_type": "code",
   "execution_count": 10,
   "id": "8fe1b5c1-4ab2-4a90-a5a7-80662381366d",
   "metadata": {},
   "outputs": [
    {
     "name": "stdout",
     "output_type": "stream",
     "text": [
      "LaTeX table of CRC‐coefficients:\n",
      "\\begin{tabular}{lrr}\n",
      "\\toprule\n",
      "Event & Alpha (CRC coef) & p-value \\\\\n",
      "\\midrule\n",
      "2008_elections & 9.013 & 0.000 \\\\\n",
      "\\bottomrule\n",
      "\\end{tabular}\n",
      "\n"
     ]
    }
   ],
   "source": [
    "import os\n",
    "import re\n",
    "import pickle\n",
    "import pandas as pd\n",
    "import statsmodels.api as sm\n",
    "from collections import Counter\n",
    "from nltk.tokenize import word_tokenize\n",
    "from nltk.sentiment.vader import SentimentIntensityAnalyzer\n",
    "\n",
    "def compute_negative_word_distribution(event_folder, top_k_words=20):\n",
    "    \"\"\"\n",
    "    As before: scan all contents, pick the top negative words (VADER score < -0.8),\n",
    "    return them as `radical_keywords`.\n",
    "    \"\"\"\n",
    "    authors_file  = os.path.join(event_folder, \"network\", \"authors.txt\")\n",
    "    contents_file = os.path.join(event_folder, \"cslasl-pre\", \"contents.txt\")\n",
    "    with open(authors_file,  \"r\", encoding=\"utf-8\") as f: authors  = [l.strip() for l in f if l.strip()]\n",
    "    with open(contents_file, \"r\", encoding=\"utf-8\") as f: contents = [l for l in f]\n",
    "    if len(authors) != len(contents):\n",
    "        raise ValueError(\"authors/contents length mismatch\")\n",
    "    text = \" \".join(contents).lower()\n",
    "    text = re.sub(r'[^a-z\\s]', ' ', text)\n",
    "    tokens = word_tokenize(text)\n",
    "    sia = SentimentIntensityAnalyzer()\n",
    "    negs = [t for t in tokens if t in sia.lexicon and sia.lexicon[t] < -0.8]\n",
    "    freq = Counter(negs).most_common(top_k_words)\n",
    "    return [w for w,_ in freq if len(w)>3]\n",
    "\n",
    "def compute_radical_labels(event_folder, radical_keywords):\n",
    "    \"\"\"\n",
    "    For each author, compute rad_score = (#kw hits)/(#words) and\n",
    "    label radicalized=1 if above median.\n",
    "    Returns a DataFrame [author, radicalized].\n",
    "    \"\"\"\n",
    "    authors_file  = os.path.join(event_folder, \"network\", \"authors.txt\")\n",
    "    contents_file = os.path.join(event_folder, \"cslasl-pre\", \"contents.txt\")\n",
    "    with open(authors_file,  \"r\", encoding=\"utf-8\") as f: authors  = [l.strip() for l in f if l.strip()]\n",
    "    with open(contents_file, \"r\", encoding=\"utf-8\") as f: contents = [l for l in f]\n",
    "    if len(authors) != len(contents):\n",
    "        raise ValueError(\"authors/contents length mismatch\")\n",
    "    df = pd.DataFrame({\"author\": authors, \"content\": contents})\n",
    "    def score(txt):\n",
    "        txt = txt.lower()\n",
    "        words = re.sub(r'[^a-z\\s]',' ', txt).split()\n",
    "        if not words: return 0.0\n",
    "        count = sum(len(re.findall(r'\\b'+re.escape(kw)+r'\\b', txt)) for kw in radical_keywords)\n",
    "        return count / len(words)\n",
    "    df[\"rad_score\"] = df[\"content\"].apply(score)\n",
    "    med = df[\"rad_score\"].median()\n",
    "    df[\"radicalized\"] = (df[\"rad_score\"] > med).astype(int)\n",
    "    return df[[\"author\",\"radicalized\"]]\n",
    "\n",
    "def load_CRC(event_folder):\n",
    "    \"\"\"\n",
    "    Load precomputed CRC_values.pkl → DataFrame [author,CRC].\n",
    "    \"\"\"\n",
    "    with open(os.path.join(event_folder,\"CRC_values.pkl\"),\"rb\") as f:\n",
    "        d = pickle.load(f)\n",
    "    return pd.DataFrame(list(d.items()), columns=[\"author\",\"CRC\"])\n",
    "\n",
    "def fit_logit(df):\n",
    "    \"\"\"\n",
    "    Fit Logit(radicalized ~ CRC) and return coef & p‐value for CRC.\n",
    "    \"\"\"\n",
    "    df = df.dropna(subset=[\"CRC\",\"radicalized\"])\n",
    "    X = sm.add_constant(df[\"CRC\"])\n",
    "    y = df[\"radicalized\"]\n",
    "    m = sm.Logit(y, X).fit(disp=False)\n",
    "    return m.params[\"CRC\"], m.pvalues[\"CRC\"]\n",
    "\n",
    "def main_hypothesis4(event_folder):\n",
    "    # 1) extract event_name\n",
    "    event_name = os.path.basename(event_folder.rstrip(\"/\"))\n",
    "    # 2) find radical keywords\n",
    "    radical_keywords = compute_negative_word_distribution(event_folder)\n",
    "    # 3) compute labels\n",
    "    df_labels = compute_radical_labels(event_folder, radical_keywords)\n",
    "    # 4) load CRC\n",
    "    df_crc    = load_CRC(event_folder)\n",
    "    # 5) merge\n",
    "    df        = pd.merge(df_crc, df_labels, on=\"author\", how=\"inner\")\n",
    "    # 6) fit\n",
    "    alpha, pval = fit_logit(df)\n",
    "    # 7) present result as one‐row DataFrame\n",
    "    df_res = pd.DataFrame([{\n",
    "        \"Event\": event_name,\n",
    "        \"Alpha (CRC coef)\": alpha,\n",
    "        \"p-value\": pval\n",
    "    }])\n",
    "    # 8) print LaTeX\n",
    "    print(\"LaTeX table of CRC‐coefficients:\")\n",
    "    print(df_res.to_latex(index=False, float_format=\"%.3f\"))\n",
    "    return df_res\n",
    "\n",
    "if __name__==\"__main__\":\n",
    "    res = main_hypothesis4(\"data/2008_elections\")"
   ]
  },
  {
   "cell_type": "code",
   "execution_count": 11,
   "id": "95c2f8c1-b0a8-44ec-b478-5dbdafa814a0",
   "metadata": {},
   "outputs": [
    {
     "name": "stdout",
     "output_type": "stream",
     "text": [
      "LaTeX table of CRC‐coefficients:\n",
      "\\begin{tabular}{lrr}\n",
      "\\toprule\n",
      "Event & Alpha (CRC coef) & p-value \\\\\n",
      "\\midrule\n",
      "2008_elections & 9.013 & 0.000 \\\\\n",
      "\\bottomrule\n",
      "\\end{tabular}\n",
      "\n"
     ]
    }
   ],
   "source": [
    "event_folder = \"data/2008_elections\"\n",
    "metrics_df = main_hypothesis4(event_folder)"
   ]
  },
  {
   "cell_type": "code",
   "execution_count": 13,
   "id": "f65ade74-c927-4a9d-9318-c5b7b5e22e74",
   "metadata": {},
   "outputs": [
    {
     "name": "stdout",
     "output_type": "stream",
     "text": [
      "LaTeX table of CRC‐coefficients:\n",
      "\\begin{tabular}{lrr}\n",
      "\\toprule\n",
      "Event & Alpha (CRC coef) & p-value \\\\\n",
      "\\midrule\n",
      "2011_wallstreet & 9.443 & 0.000 \\\\\n",
      "\\bottomrule\n",
      "\\end{tabular}\n",
      "\n"
     ]
    }
   ],
   "source": [
    "event_folder = \"data/2011_wallstreet\"\n",
    "metrics_df = main_hypothesis4(event_folder)"
   ]
  },
  {
   "cell_type": "code",
   "execution_count": 14,
   "id": "317382ce-e76a-4f59-9212-16d853390d01",
   "metadata": {},
   "outputs": [
    {
     "name": "stdout",
     "output_type": "stream",
     "text": [
      "LaTeX table of CRC‐coefficients:\n",
      "\\begin{tabular}{lrr}\n",
      "\\toprule\n",
      "Event & Alpha (CRC coef) & p-value \\\\\n",
      "\\midrule\n",
      "2016_elections & 8.720 & 0.000 \\\\\n",
      "\\bottomrule\n",
      "\\end{tabular}\n",
      "\n"
     ]
    }
   ],
   "source": [
    "event_folder = \"data/2016_elections\"\n",
    "metrics_df = main_hypothesis4(event_folder)"
   ]
  },
  {
   "cell_type": "code",
   "execution_count": 15,
   "id": "1063e4a3-e37b-4774-a311-463d590c7887",
   "metadata": {},
   "outputs": [
    {
     "name": "stdout",
     "output_type": "stream",
     "text": [
      "LaTeX table of CRC‐coefficients:\n",
      "\\begin{tabular}{lrr}\n",
      "\\toprule\n",
      "Event & Alpha (CRC coef) & p-value \\\\\n",
      "\\midrule\n",
      "2017_rally & 6.363 & 0.000 \\\\\n",
      "\\bottomrule\n",
      "\\end{tabular}\n",
      "\n"
     ]
    }
   ],
   "source": [
    "event_folder = \"data/2017_rally\"\n",
    "metrics_df = main_hypothesis4(event_folder)"
   ]
  },
  {
   "cell_type": "code",
   "execution_count": 16,
   "id": "0b0565ea-92b1-446a-8ca4-45d7f90ad061",
   "metadata": {},
   "outputs": [
    {
     "name": "stdout",
     "output_type": "stream",
     "text": [
      "LaTeX table of CRC‐coefficients:\n",
      "\\begin{tabular}{lrr}\n",
      "\\toprule\n",
      "Event & Alpha (CRC coef) & p-value \\\\\n",
      "\\midrule\n",
      "2021_riot & 6.930 & 0.000 \\\\\n",
      "\\bottomrule\n",
      "\\end{tabular}\n",
      "\n"
     ]
    }
   ],
   "source": [
    "event_folder = \"data/2021_riot\"\n",
    "metrics_df = main_hypothesis4(event_folder)"
   ]
  },
  {
   "cell_type": "code",
   "execution_count": null,
   "id": "29cc306a-6251-4543-8f70-34e1a3edc2ae",
   "metadata": {},
   "outputs": [],
   "source": []
  }
 ],
 "metadata": {
  "kernelspec": {
   "display_name": "Python 3 (ipykernel)",
   "language": "python",
   "name": "python3"
  },
  "language_info": {
   "codemirror_mode": {
    "name": "ipython",
    "version": 3
   },
   "file_extension": ".py",
   "mimetype": "text/x-python",
   "name": "python",
   "nbconvert_exporter": "python",
   "pygments_lexer": "ipython3",
   "version": "3.10.12"
  }
 },
 "nbformat": 4,
 "nbformat_minor": 5
}
