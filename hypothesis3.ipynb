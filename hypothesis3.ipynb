{
 "cells": [
  {
   "cell_type": "code",
   "execution_count": 20,
   "id": "2c08dcac-e67f-49f1-8ff2-7860daff64af",
   "metadata": {},
   "outputs": [],
   "source": [
    "import os\n",
    "import pandas as pd\n",
    "import pickle\n",
    "import io\n",
    "import zstandard as zstd\n",
    "\n",
    "def load_zst_csv(file_path):\n",
    "    \"\"\"\n",
    "    Decompress a .csv.zst file using a streaming reader and return a pandas DataFrame.\n",
    "    This method avoids loading the entire compressed file into memory.\n",
    "    \"\"\"\n",
    "    with open(file_path, 'rb') as fh:\n",
    "        dctx = zstd.ZstdDecompressor()\n",
    "        with dctx.stream_reader(fh) as reader:\n",
    "            text = reader.read().decode('utf-8')\n",
    "    return pd.read_csv(io.StringIO(text))\n",
    "\n",
    "def get_user_subreddit_counts(event_folder):\n",
    "    \"\"\"\n",
    "    Load submissions.csv.zst and comments.csv.zst from the given event folder,\n",
    "    then compute, for each user, the number of distinct subreddits in which they participate.\n",
    "    \"\"\"\n",
    "    submissions_path = os.path.join(event_folder, \"submissions.csv.zst\")\n",
    "    comments_path = os.path.join(event_folder, \"comments.csv.zst\")\n",
    "    \n",
    "    df_sub = load_zst_csv(submissions_path)\n",
    "    df_com = load_zst_csv(comments_path)\n",
    "    \n",
    "    # Ensure necessary columns are present\n",
    "    df_sub = df_sub[['author', 'subreddit']]\n",
    "    df_com = df_com[['author', 'subreddit']]\n",
    "    \n",
    "    # Combine submissions and comments\n",
    "    df_all = pd.concat([df_sub, df_com], ignore_index=True)\n",
    "    df_all = df_all.dropna(subset=['author', 'subreddit'])\n",
    "    df_all = df_all[df_all['author'] != '[deleted]']\n",
    "    \n",
    "    # Group by author and count distinct subreddits\n",
    "    user_sub_count = df_all.groupby('author')['subreddit'].nunique().reset_index()\n",
    "    user_sub_count.rename(columns={'subreddit': 'num_subreddits'}, inplace=True)\n",
    "    \n",
    "    return user_sub_count\n",
    "\n",
    "def label_bridging_nodes(user_sub_count):\n",
    "    \"\"\"\n",
    "    Label a user as a bridging node if they participate in more than one subreddit.\n",
    "    Instead of using numeric labels, assign the strings \"Bridging\" and \"Non-Bridging\".\n",
    "    \"\"\"\n",
    "    user_sub_count['bridging'] = user_sub_count['num_subreddits'].apply(\n",
    "        lambda x: \"Bridging\" if x > 1 else \"Non-Bridging\"\n",
    "    )\n",
    "    return user_sub_count\n",
    "\n",
    "def merge_with_CRC(event_folder, user_labels):\n",
    "    \"\"\"\n",
    "    Load CRC values from a pickle file, then merge them with the bridging node labels.\n",
    "    \"\"\"\n",
    "    crc_path = os.path.join(event_folder, \"CRC_values.pkl\")\n",
    "    \n",
    "    with open(crc_path, \"rb\") as f:\n",
    "        crc_dict = pickle.load(f)\n",
    "    \n",
    "    df_crc = pd.DataFrame(list(crc_dict.items()), columns=['author', 'CRC'])\n",
    "    \n",
    "    merged = pd.merge(user_labels, df_crc, on='author', how='left')\n",
    "    return merged\n",
    "\n",
    "def print_top_crc_bridging_latex(merged, top_perc=0.25):\n",
    "    \"\"\"\n",
    "    Filter to the top users by CRC (top_perc fraction), then print summary statistics for CRC by bridging status in LaTeX table format.\n",
    "    \"\"\"\n",
    "    # Sort by CRC descending and take the top percentage\n",
    "    merged_sorted = merged.sort_values(by=\"CRC\", ascending=False)\n",
    "    top_n = int(len(merged_sorted) * top_perc)\n",
    "    top_users = merged_sorted.head(top_n)\n",
    "    \n",
    "    # Group by bridging status and compute descriptive statistics for CRC\n",
    "    crc_stats = top_users.groupby('bridging')['CRC'].describe()\n",
    "    latex_table = crc_stats.to_latex(float_format=\"%.2f\")\n",
    "    \n",
    "    print(\"LaTeX table for CRC by Bridging Status (Top {:.0f}% Users):\".format(top_perc*100))\n",
    "    print(latex_table)\n",
    "    \n",
    "    # Additionally, print mean CRC for each group and their difference\n",
    "    mean_bridging = top_users[top_users['bridging'] == \"Bridging\"]['CRC'].mean()\n",
    "    mean_nonbridging = top_users[top_users['bridging'] == \"Non-Bridging\"]['CRC'].mean()\n",
    "    diff = mean_nonbridging - mean_bridging\n",
    "    print(\"\\nSummary of Mean CRC Values for Top {:.0f}% Users:\".format(top_perc*100))\n",
    "    print(f\"Mean CRC (Bridging): {mean_bridging:.2f}\")\n",
    "    print(f\"Mean CRC (Non-Bridging): {mean_nonbridging:.2f}\")\n",
    "    print(f\"Difference (Non-Bridging - Bridging): {diff:.2f}\")\n",
    "\n",
    "def main(event_folder, top_perc=0.25):\n",
    "    # Compute distinct subreddit counts per user from submissions and comments.\n",
    "    user_sub_count = get_user_subreddit_counts(event_folder)\n",
    "    user_labels = label_bridging_nodes(user_sub_count)\n",
    "    \n",
    "    # Merge bridging labels with pre-computed CRC values.\n",
    "    merged = merge_with_CRC(event_folder, user_labels)\n",
    "    \n",
    "    # Save merged results.\n",
    "    output_csv = os.path.join(event_folder, \"bridging_CRC.csv\")\n",
    "    merged.to_csv(output_csv, index=False)\n",
    "    print(f\"Merged data saved to: {output_csv}\")\n",
    "    \n",
    "    # Print LaTeX table of summary statistics for CRC by bridging status for top users.\n",
    "    print_top_crc_bridging_latex(merged, top_perc=top_perc)\n",
    "    \n",
    "    return merged"
   ]
  },
  {
   "cell_type": "code",
   "execution_count": 25,
   "id": "56fe3d41-d4b9-4b31-86e2-43f900e9cce6",
   "metadata": {},
   "outputs": [
    {
     "name": "stdout",
     "output_type": "stream",
     "text": [
      "Merged data saved to: data/2008_elections/bridging_CRC.csv\n",
      "LaTeX table for CRC by Bridging Status (Top 100% Users):\n",
      "\\begin{tabular}{lrrrrrrrr}\n",
      "\\toprule\n",
      " & count & mean & std & min & 25% & 50% & 75% & max \\\\\n",
      "bridging &  &  &  &  &  &  &  &  \\\\\n",
      "\\midrule\n",
      "Bridging & 1749.00 & 1.20 & 0.13 & 1.00 & 1.09 & 1.20 & 1.27 & 1.77 \\\\\n",
      "Non-Bridging & 11435.00 & 1.12 & 0.11 & 1.00 & 1.02 & 1.10 & 1.21 & 2.00 \\\\\n",
      "\\bottomrule\n",
      "\\end{tabular}\n",
      "\n",
      "\n",
      "Summary of Mean CRC Values for Top 100% Users:\n",
      "Mean CRC (Bridging): 1.20\n",
      "Mean CRC (Non-Bridging): 1.12\n",
      "Difference (Non-Bridging - Bridging): -0.07\n"
     ]
    }
   ],
   "source": [
    "event_folder = \"data/2008_elections\"\n",
    "merged_data = main(event_folder, top_perc=1)"
   ]
  },
  {
   "cell_type": "code",
   "execution_count": 26,
   "id": "24f1c352-46f0-4086-aa26-5a5b56fe7407",
   "metadata": {},
   "outputs": [
    {
     "name": "stdout",
     "output_type": "stream",
     "text": [
      "Merged data saved to: data/2011_wallstreet/bridging_CRC.csv\n",
      "LaTeX table for CRC by Bridging Status (Top 100% Users):\n",
      "\\begin{tabular}{lrrrrrrrr}\n",
      "\\toprule\n",
      " & count & mean & std & min & 25% & 50% & 75% & max \\\\\n",
      "bridging &  &  &  &  &  &  &  &  \\\\\n",
      "\\midrule\n",
      "Bridging & 459.00 & 1.18 & 0.11 & 1.01 & 1.10 & 1.19 & 1.25 & 1.52 \\\\\n",
      "Non-Bridging & 31168.00 & 1.12 & 0.10 & 1.00 & 1.02 & 1.10 & 1.21 & 1.68 \\\\\n",
      "\\bottomrule\n",
      "\\end{tabular}\n",
      "\n",
      "\n",
      "Summary of Mean CRC Values for Top 100% Users:\n",
      "Mean CRC (Bridging): 1.18\n",
      "Mean CRC (Non-Bridging): 1.12\n",
      "Difference (Non-Bridging - Bridging): -0.06\n"
     ]
    }
   ],
   "source": [
    "event_folder = \"data/2011_wallstreet\"\n",
    "merged_data = main(event_folder, top_perc=1)"
   ]
  },
  {
   "cell_type": "code",
   "execution_count": 27,
   "id": "f03c0538-e718-4ee9-960d-d5413a1a144b",
   "metadata": {},
   "outputs": [
    {
     "name": "stdout",
     "output_type": "stream",
     "text": [
      "Merged data saved to: data/2016_elections/bridging_CRC.csv\n",
      "LaTeX table for CRC by Bridging Status (Top 100% Users):\n",
      "\\begin{tabular}{lrrrrrrrr}\n",
      "\\toprule\n",
      " & count & mean & std & min & 25% & 50% & 75% & max \\\\\n",
      "bridging &  &  &  &  &  &  &  &  \\\\\n",
      "\\midrule\n",
      "Bridging & 37849.00 & 1.21 & 0.13 & 1.00 & 1.10 & 1.23 & 1.30 & 2.02 \\\\\n",
      "Non-Bridging & 257980.00 & 1.14 & 0.12 & 1.00 & 1.02 & 1.11 & 1.25 & 1.66 \\\\\n",
      "\\bottomrule\n",
      "\\end{tabular}\n",
      "\n",
      "\n",
      "Summary of Mean CRC Values for Top 100% Users:\n",
      "Mean CRC (Bridging): 1.21\n",
      "Mean CRC (Non-Bridging): 1.14\n",
      "Difference (Non-Bridging - Bridging): -0.07\n"
     ]
    }
   ],
   "source": [
    "event_folder = \"data/2016_elections\"\n",
    "merged_data = main(event_folder, top_perc=1)"
   ]
  },
  {
   "cell_type": "code",
   "execution_count": 28,
   "id": "8d3f3048-296b-4245-be00-bd321a096676",
   "metadata": {},
   "outputs": [
    {
     "name": "stdout",
     "output_type": "stream",
     "text": [
      "Merged data saved to: data/2017_rally/bridging_CRC.csv\n",
      "LaTeX table for CRC by Bridging Status (Top 100% Users):\n",
      "\\begin{tabular}{lrrrrrrrr}\n",
      "\\toprule\n",
      " & count & mean & std & min & 25% & 50% & 75% & max \\\\\n",
      "bridging &  &  &  &  &  &  &  &  \\\\\n",
      "\\midrule\n",
      "Bridging & 3984.00 & 1.21 & 0.15 & 1.00 & 1.07 & 1.21 & 1.32 & 1.65 \\\\\n",
      "Non-Bridging & 100141.00 & 1.17 & 0.13 & 1.00 & 1.04 & 1.17 & 1.30 & 2.50 \\\\\n",
      "\\bottomrule\n",
      "\\end{tabular}\n",
      "\n",
      "\n",
      "Summary of Mean CRC Values for Top 100% Users:\n",
      "Mean CRC (Bridging): 1.21\n",
      "Mean CRC (Non-Bridging): 1.17\n",
      "Difference (Non-Bridging - Bridging): -0.03\n"
     ]
    }
   ],
   "source": [
    "event_folder = \"data/2017_rally\"\n",
    "merged_data = main(event_folder, top_perc=1)"
   ]
  },
  {
   "cell_type": "code",
   "execution_count": 29,
   "id": "d85bed1c-6973-4dc1-a80c-def25381578f",
   "metadata": {},
   "outputs": [
    {
     "name": "stdout",
     "output_type": "stream",
     "text": [
      "Merged data saved to: data/2021_riot/bridging_CRC.csv\n",
      "LaTeX table for CRC by Bridging Status (Top 100% Users):\n",
      "\\begin{tabular}{lrrrrrrrr}\n",
      "\\toprule\n",
      " & count & mean & std & min & 25% & 50% & 75% & max \\\\\n",
      "bridging &  &  &  &  &  &  &  &  \\\\\n",
      "\\midrule\n",
      "Bridging & 6958.00 & 1.16 & 0.12 & 1.00 & 1.05 & 1.15 & 1.27 & 1.55 \\\\\n",
      "Non-Bridging & 247522.00 & 1.15 & 0.11 & 1.00 & 1.03 & 1.14 & 1.26 & 4.21 \\\\\n",
      "\\bottomrule\n",
      "\\end{tabular}\n",
      "\n",
      "\n",
      "Summary of Mean CRC Values for Top 100% Users:\n",
      "Mean CRC (Bridging): 1.16\n",
      "Mean CRC (Non-Bridging): 1.15\n",
      "Difference (Non-Bridging - Bridging): -0.01\n"
     ]
    }
   ],
   "source": [
    "event_folder = \"data/2021_riot\"\n",
    "merged_data = main(event_folder, top_perc=1)"
   ]
  },
  {
   "cell_type": "code",
   "execution_count": null,
   "id": "219bb8ee-d981-4290-8013-986bbce84880",
   "metadata": {},
   "outputs": [],
   "source": []
  }
 ],
 "metadata": {
  "kernelspec": {
   "display_name": "Python 3 (ipykernel)",
   "language": "python",
   "name": "python3"
  },
  "language_info": {
   "codemirror_mode": {
    "name": "ipython",
    "version": 3
   },
   "file_extension": ".py",
   "mimetype": "text/x-python",
   "name": "python",
   "nbconvert_exporter": "python",
   "pygments_lexer": "ipython3",
   "version": "3.10.12"
  }
 },
 "nbformat": 4,
 "nbformat_minor": 5
}
